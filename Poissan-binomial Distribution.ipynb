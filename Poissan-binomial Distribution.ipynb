{
 "cells": [
  {
   "cell_type": "markdown",
   "metadata": {},
   "source": [
    "<font size=\"4\" style=\"color:red;\"> **IMPORTANT: ** When submitting this homework notebook, please modify only the cells that start with:</font>\n",
    "\n",
    "```python\n",
    "# modify this cell\n",
    "```\n",
    "\n",
    "<font style=\"color:red;\"> Do not add any new cells. To test out new code, use the coding **scratchpad** by clicking the triangular icon in the bottom right corner of the screen. (**hotkey:** control-B)  </font>"
   ]
  },
  {
   "cell_type": "markdown",
   "metadata": {},
   "source": [
    "## The Poisson-binomial Distribution"
   ]
  },
  {
   "cell_type": "markdown",
   "metadata": {},
   "source": [
    "In the binomial distribution, $n$ Bernoulli variables $X_1,...,X_n$ are distributed \n",
    "independently $\\sim B(p)$ with the same success probability $p$,\n",
    "and $X=\\sum_{i=1}^n X_i$. We have seen that \n",
    "$$P(X=k)=\\binom nk \\cdot p^k\\cdot \\overline p^{n-k}.$$\n",
    "\n",
    "In the Poisson-binomial distribution, again $n$ Bernoulli variables (sometimes called\n",
    "<i>Poisson trials</i>) are distributed independently, and again $X=\\sum_{i=1}^n X_i$.\n",
    "However, now each $X_i\\sim B(p_i)$ where the $p_i$'s may differ. \n",
    "\n",
    "For the Poisson-binomial distribution, $P(X=k)$ does not have a simple formula, but it can be \n",
    "computed numerically. One way is to determine all $k$-subsets of \n",
    "$\\{1,...,n\\}$, and for each such subset $S$ claculate the\n",
    "probability that $X_i$ is $1$ iff $i\\in S$, and then sum these probabilities. \n",
    "\n",
    "For example, for $[p_1,p_2,p_3]=[0.4, 0.3, 0.8]$, and $k=2$. \n",
    "The $2$-subsets of $\\{1,2,3\\}$ and the corresponding probabilties that $X_i$ is one iff $i$ is in the subset are\n",
    "\n",
    "$$\n",
    "\\{1,2\\}\\quad 0.024\\\\\n",
    "\\{1,3\\}\\quad 0.224\\\\\n",
    "\\{2,3\\}\\quad 0.144\\\\\n",
    "$$\n",
    "hence,\n",
    "$$P(X=k)=0.024+0.224+0.144=0.392.$$"
   ]
  },
  {
   "cell_type": "markdown",
   "metadata": {},
   "source": [
    "### Exercise 1"
   ]
  },
  {
   "cell_type": "markdown",
   "metadata": {},
   "source": [
    "Using the above method , write a function **pmf_sum** that takes a vector $\\boldsymbol p=[p_1, p_2, \\ldots, p_n]$ of length $\\ge 1$ and a natural number $k$, and outputs $P(X=k)$.\n",
    "\n",
    "<font  style=\"color:blue\"> * **Sample run:** *</font>\n",
    "```python\n",
    "pmf_sum([0.4, 0.3, 0.8], 2)\n",
    "```\n",
    "\n",
    "<font  style=\"color:magenta\"> * **Expected Output:** *</font>\n",
    "```\n",
    "0.392\n",
    "```"
   ]
  },
  {
   "cell_type": "code",
   "execution_count": 65,
   "metadata": {
    "scrolled": true
   },
   "outputs": [],
   "source": [
    "# modify this cell\n",
    "    ### BEGIN SOLUTION\n",
    "import itertools\n",
    "import numpy as np\n",
    "def pmf_sum(p, k):\n",
    "    # inputs: p is a list of integers and k is an integer\n",
    "    # output: a variable of type 'float'\n",
    "    #pc = 1.0 - p\n",
    "    S = {i for i in range(0,len(p))}\n",
    "    s = list(set(itertools.combinations(S,k)))\n",
    "    #print(s)\n",
    "    pmf_cell = []\n",
    "    for el in s:\n",
    "        pkt = 1.0\n",
    "        for i in el:\n",
    "            pkt = pkt*p[int(i)]\n",
    "            #print(pkt)\n",
    "        compl = list(S - set(el)) \n",
    "        #print(compl)\n",
    "        for j in compl:\n",
    "            pkt = pkt*(1.0-p[int(j)])\n",
    "            #print(pkt)\n",
    "        pmf_cell.append(pkt)\n",
    "        #print(pmf_cell)\n",
    "    pmf_arr = np.asarray(pmf_cell,dtype=np.float64)\n",
    "    #print(pmf_arr)\n",
    "    pmf = np.sum(pmf_arr)\n",
    "    ### END SOLUTION\n",
    "    return pmf\n",
    "# modify this cell"
   ]
  },
  {
   "cell_type": "code",
   "execution_count": null,
   "metadata": {
    "collapsed": true
   },
   "outputs": [],
   "source": [
    "# Check Function\n",
    "\n",
    "assert abs(pmf_sum([0.2, 0.3, 0.4, 0.1], 2)-0.2144)<1e-1\n",
    "assert abs(pmf_sum([0.7, 0.7, 0.8,0.3,0.1], 4)-0.1463)<1e-1"
   ]
  },
  {
   "cell_type": "code",
   "execution_count": 3,
   "metadata": {},
   "outputs": [],
   "source": [
    "f = [i for i in range(0,3)]\n",
    "s = list(set(itertools.combinations(f,2)))"
   ]
  },
  {
   "cell_type": "code",
   "execution_count": 4,
   "metadata": {},
   "outputs": [],
   "source": [
    "d = set(f) - set(s[0])"
   ]
  },
  {
   "cell_type": "code",
   "execution_count": 38,
   "metadata": {},
   "outputs": [
    {
     "name": "stdout",
     "output_type": "stream",
     "text": [
      "[  1.03680000e-03   5.80608000e-02   2.68800000e-04   4.30080000e-03\n",
      "   4.60800000e-04   1.65888000e-02   1.61280000e-03   3.62880000e-03\n",
      "   2.68800000e-04   1.61280000e-03   4.60800000e-04   4.30080000e-03\n",
      "   4.30080000e-03   9.67680000e-03   7.16800000e-04   1.22880000e-03\n",
      "   2.76480000e-03   5.80608000e-02   4.60800000e-04   9.67680000e-03\n",
      "   9.67680000e-03   1.65888000e-02   1.03680000e-03   5.80608000e-02\n",
      "   2.68800000e-04   1.65888000e-02   6.22080000e-03   1.61280000e-03\n",
      "   6.22080000e-03   2.17728000e-02   6.22080000e-03   3.62880000e-03\n",
      "   3.62880000e-03   1.03680000e-03   7.68000000e-05]\n"
     ]
    }
   ],
   "source": [
    "p = pmf_sum([0.1,0.6,0.8,0.6,0.2,0.6,0.3],3)"
   ]
  },
  {
   "cell_type": "code",
   "execution_count": 60,
   "metadata": {},
   "outputs": [
    {
     "data": {
      "text/plain": [
       "array([[ 0.,  0.,  0.,  0.,  0.,  0.,  0.,  0.,  0.,  0.,  0.,  0.,  0.,\n",
       "         0.,  0.,  0.,  0.,  0.,  0.,  0.]])"
      ]
     },
     "execution_count": 60,
     "metadata": {},
     "output_type": "execute_result"
    }
   ],
   "source": [
    "##<font>Visulaization-Part(Matplotlib)</font>\n",
    "np.zeros(shape=(1,20))"
   ]
  },
  {
   "cell_type": "code",
   "execution_count": 49,
   "metadata": {},
   "outputs": [],
   "source": [
    "%matplotlib inline"
   ]
  },
  {
   "cell_type": "code",
   "execution_count": 73,
   "metadata": {},
   "outputs": [],
   "source": [
    "import pandas as pd\n",
    "import matplotlib.pyplot as plt\n",
    "import seaborn as sns\n",
    "from scipy import stats, integrate\n",
    "sns.set(color_codes = True)"
   ]
  },
  {
   "cell_type": "code",
   "execution_count": 79,
   "metadata": {},
   "outputs": [],
   "source": [
    "def plot_points(p):\n",
    "    n = len(p)+1\n",
    "    x = np.zeros(shape = (1,n))\n",
    "    for i in range(n):\n",
    "        x[0][i] = pmf_sum(p,i)\n",
    "    return x[0]    "
   ]
  },
  {
   "cell_type": "code",
   "execution_count": 101,
   "metadata": {},
   "outputs": [],
   "source": [
    "y = plot_points([0.1,0.6,0.8,0.6,0.2,0.6,0.3,0.8,0.6,0.2,0.8,0.6,0.2,0.8,0.6,0.2,0.8,0.6,0.2])"
   ]
  },
  {
   "cell_type": "code",
   "execution_count": 102,
   "metadata": {},
   "outputs": [],
   "source": [
    "x = np.arange(len(y))"
   ]
  },
  {
   "cell_type": "code",
   "execution_count": 103,
   "metadata": {},
   "outputs": [
    {
     "data": {
      "text/plain": [
       "[<matplotlib.lines.Line2D at 0x7f08dcb310f0>]"
      ]
     },
     "execution_count": 103,
     "metadata": {},
     "output_type": "execute_result"
    },
    {
     "data": {
      "image/png": "[encoded data removed]",
      "text/plain": [
       "<matplotlib.figure.Figure at 0x7f08dcb31cf8>"
      ]
     },
     "metadata": {},
     "output_type": "display_data"
    }
   ],
   "source": [
    "plt.xlabel('x')\n",
    "plt.ylabel('P(X=x)')\n",
    "plt.plot(x,y)"
   ]
  },
  {
   "cell_type": "code",
   "execution_count": 107,
   "metadata": {},
   "outputs": [
    {
     "data": {
      "text/plain": [
       "<Container object of 3 artists>"
      ]
     },
     "execution_count": 107,
     "metadata": {},
     "output_type": "execute_result"
    },
    {
     "data": {
      "image/png": "[encoded data removed]",
      "text/plain": [
       "<matplotlib.figure.Figure at 0x7f08dbdb09b0>"
      ]
     },
     "metadata": {},
     "output_type": "display_data"
    }
   ],
   "source": [
    "from matplotlib.pyplot import stem\n",
    "\n",
    "stem(y, linefmt='b-', markerfmt='bo', basefmt='r-')\n",
    "stem(x, y, linefmt='b-', markerfmt='bo', basefmt='r-')"
   ]
  },
  {
   "cell_type": "code",
   "execution_count": null,
   "metadata": {},
   "outputs": [],
   "source": []
  },
  {
   "cell_type": "code",
   "execution_count": null,
   "metadata": {},
   "outputs": [],
   "source": []
  }
 ],
 "metadata": {
  "kernelspec": {
   "display_name": "Python 3",
   "language": "python",
   "name": "python3"
  },
  "language_info": {
   "codemirror_mode": {
    "name": "ipython",
    "version": 3
   },
   "file_extension": ".py",
   "mimetype": "text/x-python",
   "name": "python",
   "nbconvert_exporter": "python",
   "pygments_lexer": "ipython3",
   "version": "3.5.2"
  },
  "toc": {
   "base_numbering": 1,
   "nav_menu": {
    "height": "48px",
    "width": "252px"
   },
   "number_sections": true,
   "sideBar": true,
   "skip_h1_title": false,
   "title_cell": "Table of Contents",
   "title_sidebar": "Contents",
   "toc_cell": false,
   "toc_position": {},
   "toc_section_display": "block",
   "toc_window_display": false
  },
  "varInspector": {
   "cols": {
    "lenName": 16,
    "lenType": 16,
    "lenVar": 40
   },
   "kernels_config": {
    "python": {
     "delete_cmd_postfix": "",
     "delete_cmd_prefix": "del ",
     "library": "var_list.py",
     "varRefreshCmd": "print(var_dic_list())"
    },
    "r": {
     "delete_cmd_postfix": ") ",
     "delete_cmd_prefix": "rm(",
     "library": "var_list.r",
     "varRefreshCmd": "cat(var_dic_list()) "
    }
   },
   "types_to_exclude": [
    "module",
    "function",
    "builtin_function_or_method",
    "instance",
    "_Feature"
   ],
   "window_display": false
  }
 },
 "nbformat": 4,
 "nbformat_minor": 2
}
